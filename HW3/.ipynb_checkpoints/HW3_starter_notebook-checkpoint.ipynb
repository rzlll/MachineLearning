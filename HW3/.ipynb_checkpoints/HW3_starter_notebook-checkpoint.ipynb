{
 "cells": [
  {
   "cell_type": "code",
   "execution_count": 1,
   "metadata": {
    "id": "wrwvHdmGGKls"
   },
   "outputs": [],
   "source": [
    "import numpy as np\n",
    "import pandas as pd\n",
    "\n",
    "import matplotlib.pyplot as plt\n",
    "\n",
    "import math"
   ]
  },
  {
   "cell_type": "code",
   "execution_count": 2,
   "metadata": {
    "id": "V29LxcQ4P1SS"
   },
   "outputs": [],
   "source": [
    "#@title Read data. Clean a bit.\n",
    "file1 = open('CCRB_database_raw.csv', 'r') \n",
    "df = pd.read_csv(file1)\n",
    "\n",
    "df = df.drop(['ShieldNo', 'AsOfDate'], axis=1)\n",
    "\n",
    "# Fix up some common typos in the dataset.\n",
    "allegations_correction_dict = {\n",
    "    'Vehicle Searched': 'Vehicle search',\n",
    "    'Other - Ethnic Slur': 'Ethnic Slur',\n",
    "    'Refusal to provide shield number': 'Refusal to provide name/shield number',\n",
    "    'Refusal to provide name': 'Refusal to provide name/shield number',\n",
    "    'Property Damaged': 'Property damaged',\n",
    "    'Gun Pointed': 'Gun pointed/gun drawn',\n",
    "    'Gun pointed': 'Gun pointed/gun drawn',\n",
    "    'Threat of Arrest': 'Threat of arrest',\n",
    "    'Other- Discourtesy': 'Discourtesy',\n",
    "    'Premise Searched': 'Premises entered and/or searched',\n",
    "    'Entry of Premises': 'Premises entered and/or searched',\n",
    "    'Search of Premises': 'Premises entered and/or searched',\n",
    "    'Threat of Summons': 'Threat of summons',\n",
    "    'Property Damaged': 'Property damaged',\n",
    "    'Flashlight As Club': 'Flashlight As club',\n",
    "    'Radio As Club': 'Radio as club',\n",
    "    'Gun Fired': 'Gun fired',\n",
    "    'Gun As Club': 'Gun As club',\n",
    "}\n",
    "\n",
    "penalty_correction_dict = {\n",
    "    'Terminated': 'Termination',\n",
    "}\n",
    "\n",
    "df['Allegation'] = df['Allegation'].replace(allegations_correction_dict)\n",
    "df['PenaltyDesc'] = df['PenaltyDesc'].replace(penalty_correction_dict)\n",
    "df['Full Name'] = df['First Name'] + \" \" + df['Last Name']\n",
    "\n",
    "df['Incident Date'] = pd.to_datetime(df['Incident Date'], format='%m/%d/%Y')\n",
    "dates = df[\"Incident Date\"]\n",
    "\n",
    "df['day'] = df['Incident Date'].dt.day\n",
    "df['month'] = df['Incident Date'].dt.month\n",
    "df['year'] = df['Incident Date'].dt.year\n",
    "\n",
    "df = df.drop(['Incident Date'], axis=1)\n"
   ]
  },
  {
   "cell_type": "code",
   "execution_count": 3,
   "metadata": {
    "colab": {
     "base_uri": "https://localhost:8080/",
     "height": 306
    },
    "id": "H-x7ZAGOApKg",
    "outputId": "ca40978a-d29d-470d-8848-26d0c0cee516"
   },
   "outputs": [
    {
     "data": {
      "text/html": [
       "<div>\n",
       "<style scoped>\n",
       "    .dataframe tbody tr th:only-of-type {\n",
       "        vertical-align: middle;\n",
       "    }\n",
       "\n",
       "    .dataframe tbody tr th {\n",
       "        vertical-align: top;\n",
       "    }\n",
       "\n",
       "    .dataframe thead th {\n",
       "        text-align: right;\n",
       "    }\n",
       "</style>\n",
       "<table border=\"1\" class=\"dataframe\">\n",
       "  <thead>\n",
       "    <tr style=\"text-align: right;\">\n",
       "      <th></th>\n",
       "      <th>Unique Id</th>\n",
       "      <th>First Name</th>\n",
       "      <th>Last Name</th>\n",
       "      <th>Rank</th>\n",
       "      <th>Command</th>\n",
       "      <th>Complaint Id</th>\n",
       "      <th>FADO Type</th>\n",
       "      <th>Allegation</th>\n",
       "      <th>Board Disposition</th>\n",
       "      <th>NYPDDisposition</th>\n",
       "      <th>PenaltyDesc</th>\n",
       "      <th>Full Name</th>\n",
       "      <th>day</th>\n",
       "      <th>month</th>\n",
       "      <th>year</th>\n",
       "    </tr>\n",
       "  </thead>\n",
       "  <tbody>\n",
       "    <tr>\n",
       "      <th>313833</th>\n",
       "      <td>23257</td>\n",
       "      <td>Janet</td>\n",
       "      <td>Weschler</td>\n",
       "      <td>POF</td>\n",
       "      <td>101 PCT</td>\n",
       "      <td>8900993.0</td>\n",
       "      <td>Force</td>\n",
       "      <td>Gun pointed/gun drawn</td>\n",
       "      <td>Complaint Withdrawn</td>\n",
       "      <td>NaN</td>\n",
       "      <td>NaN</td>\n",
       "      <td>Janet Weschler</td>\n",
       "      <td>30.0</td>\n",
       "      <td>3.0</td>\n",
       "      <td>1989.0</td>\n",
       "    </tr>\n",
       "    <tr>\n",
       "      <th>96564</th>\n",
       "      <td>15010</td>\n",
       "      <td>Delio</td>\n",
       "      <td>Fernandez</td>\n",
       "      <td>POM</td>\n",
       "      <td>067 PCT</td>\n",
       "      <td>201702611.0</td>\n",
       "      <td>Force</td>\n",
       "      <td>Physical force</td>\n",
       "      <td>Complaint Withdrawn</td>\n",
       "      <td>NaN</td>\n",
       "      <td>NaN</td>\n",
       "      <td>Delio Fernandez</td>\n",
       "      <td>30.0</td>\n",
       "      <td>3.0</td>\n",
       "      <td>2017.0</td>\n",
       "    </tr>\n",
       "    <tr>\n",
       "      <th>222804</th>\n",
       "      <td>49849</td>\n",
       "      <td>Brendan</td>\n",
       "      <td>Owens</td>\n",
       "      <td>DT3</td>\n",
       "      <td>JT T/F</td>\n",
       "      <td>200008906.0</td>\n",
       "      <td>Abuse of Authority</td>\n",
       "      <td>Vehicle search</td>\n",
       "      <td>Substantiated (Command Discipline)</td>\n",
       "      <td>NaN</td>\n",
       "      <td>NaN</td>\n",
       "      <td>Brendan Owens</td>\n",
       "      <td>25.0</td>\n",
       "      <td>12.0</td>\n",
       "      <td>2000.0</td>\n",
       "    </tr>\n",
       "    <tr>\n",
       "      <th>4852</th>\n",
       "      <td>35583</td>\n",
       "      <td>Antonio</td>\n",
       "      <td>Alfonso</td>\n",
       "      <td>SGT</td>\n",
       "      <td>CPK PCT</td>\n",
       "      <td>9903189.0</td>\n",
       "      <td>Abuse of Authority</td>\n",
       "      <td>Gun Drawn</td>\n",
       "      <td>Substantiated (Charges)</td>\n",
       "      <td>NaN</td>\n",
       "      <td>NaN</td>\n",
       "      <td>Antonio Alfonso</td>\n",
       "      <td>7.0</td>\n",
       "      <td>7.0</td>\n",
       "      <td>1999.0</td>\n",
       "    </tr>\n",
       "    <tr>\n",
       "      <th>134058</th>\n",
       "      <td>39768</td>\n",
       "      <td>Mark</td>\n",
       "      <td>Holder</td>\n",
       "      <td>DT3</td>\n",
       "      <td>DBBS</td>\n",
       "      <td>200815762.0</td>\n",
       "      <td>Discourtesy</td>\n",
       "      <td>Word</td>\n",
       "      <td>Unsubstantiated</td>\n",
       "      <td>NaN</td>\n",
       "      <td>NaN</td>\n",
       "      <td>Mark Holder</td>\n",
       "      <td>30.0</td>\n",
       "      <td>10.0</td>\n",
       "      <td>2008.0</td>\n",
       "    </tr>\n",
       "  </tbody>\n",
       "</table>\n",
       "</div>"
      ],
      "text/plain": [
       "        Unique Id First Name  Last Name Rank  Command  Complaint Id  \\\n",
       "313833      23257      Janet   Weschler  POF  101 PCT     8900993.0   \n",
       "96564       15010      Delio  Fernandez  POM  067 PCT   201702611.0   \n",
       "222804      49849    Brendan      Owens  DT3   JT T/F   200008906.0   \n",
       "4852        35583    Antonio    Alfonso  SGT  CPK PCT     9903189.0   \n",
       "134058      39768       Mark     Holder  DT3     DBBS   200815762.0   \n",
       "\n",
       "                 FADO Type             Allegation  \\\n",
       "313833               Force  Gun pointed/gun drawn   \n",
       "96564                Force         Physical force   \n",
       "222804  Abuse of Authority         Vehicle search   \n",
       "4852    Abuse of Authority              Gun Drawn   \n",
       "134058         Discourtesy                   Word   \n",
       "\n",
       "                         Board Disposition NYPDDisposition PenaltyDesc  \\\n",
       "313833                 Complaint Withdrawn             NaN         NaN   \n",
       "96564                  Complaint Withdrawn             NaN         NaN   \n",
       "222804  Substantiated (Command Discipline)             NaN         NaN   \n",
       "4852               Substantiated (Charges)             NaN         NaN   \n",
       "134058                     Unsubstantiated             NaN         NaN   \n",
       "\n",
       "              Full Name   day  month    year  \n",
       "313833   Janet Weschler  30.0    3.0  1989.0  \n",
       "96564   Delio Fernandez  30.0    3.0  2017.0  \n",
       "222804    Brendan Owens  25.0   12.0  2000.0  \n",
       "4852    Antonio Alfonso   7.0    7.0  1999.0  \n",
       "134058      Mark Holder  30.0   10.0  2008.0  "
      ]
     },
     "execution_count": 3,
     "metadata": {},
     "output_type": "execute_result"
    }
   ],
   "source": [
    "df.sample(5)"
   ]
  },
  {
   "cell_type": "code",
   "execution_count": 5,
   "metadata": {
    "colab": {
     "base_uri": "https://localhost:8080/",
     "height": 359
    },
    "id": "_Aoa1YXGB7wc",
    "outputId": "89fa28bc-99ee-4d03-a74e-651caaba5bcd"
   },
   "outputs": [
    {
     "data": {
      "text/html": [
       "<div>\n",
       "<style scoped>\n",
       "    .dataframe tbody tr th:only-of-type {\n",
       "        vertical-align: middle;\n",
       "    }\n",
       "\n",
       "    .dataframe tbody tr th {\n",
       "        vertical-align: top;\n",
       "    }\n",
       "\n",
       "    .dataframe thead th {\n",
       "        text-align: right;\n",
       "    }\n",
       "</style>\n",
       "<table border=\"1\" class=\"dataframe\">\n",
       "  <thead>\n",
       "    <tr style=\"text-align: right;\">\n",
       "      <th></th>\n",
       "      <th>Officer</th>\n",
       "      <th>Number of complaints</th>\n",
       "    </tr>\n",
       "  </thead>\n",
       "  <tbody>\n",
       "    <tr>\n",
       "      <th>0</th>\n",
       "      <td>Robert Currie</td>\n",
       "      <td>173</td>\n",
       "    </tr>\n",
       "    <tr>\n",
       "      <th>1</th>\n",
       "      <td>Michael Elliott</td>\n",
       "      <td>159</td>\n",
       "    </tr>\n",
       "    <tr>\n",
       "      <th>2</th>\n",
       "      <td>Robert Rodriguez</td>\n",
       "      <td>136</td>\n",
       "    </tr>\n",
       "    <tr>\n",
       "      <th>3</th>\n",
       "      <td>John Coghlan</td>\n",
       "      <td>127</td>\n",
       "    </tr>\n",
       "    <tr>\n",
       "      <th>4</th>\n",
       "      <td>Michael Murphy</td>\n",
       "      <td>124</td>\n",
       "    </tr>\n",
       "    <tr>\n",
       "      <th>5</th>\n",
       "      <td>George Whalen</td>\n",
       "      <td>113</td>\n",
       "    </tr>\n",
       "    <tr>\n",
       "      <th>6</th>\n",
       "      <td>Robert Martinez</td>\n",
       "      <td>110</td>\n",
       "    </tr>\n",
       "    <tr>\n",
       "      <th>7</th>\n",
       "      <td>Michael Gonzalez</td>\n",
       "      <td>109</td>\n",
       "    </tr>\n",
       "    <tr>\n",
       "      <th>8</th>\n",
       "      <td>Steven Deluca</td>\n",
       "      <td>109</td>\n",
       "    </tr>\n",
       "    <tr>\n",
       "      <th>9</th>\n",
       "      <td>Glen Halfhide</td>\n",
       "      <td>109</td>\n",
       "    </tr>\n",
       "  </tbody>\n",
       "</table>\n",
       "</div>"
      ],
      "text/plain": [
       "            Officer  Number of complaints\n",
       "0     Robert Currie                   173\n",
       "1   Michael Elliott                   159\n",
       "2  Robert Rodriguez                   136\n",
       "3      John Coghlan                   127\n",
       "4    Michael Murphy                   124\n",
       "5     George Whalen                   113\n",
       "6   Robert Martinez                   110\n",
       "7  Michael Gonzalez                   109\n",
       "8     Steven Deluca                   109\n",
       "9     Glen Halfhide                   109"
      ]
     },
     "execution_count": 5,
     "metadata": {},
     "output_type": "execute_result"
    }
   ],
   "source": [
    "officer_counts = df['Full Name'].value_counts().reset_index()\n",
    "officer_counts.columns = ['Officer', 'Number of complaints']\n",
    "officer_counts.head(10)"
   ]
  },
  {
   "cell_type": "code",
   "execution_count": 6,
   "metadata": {
    "colab": {
     "base_uri": "https://localhost:8080/",
     "height": 336
    },
    "id": "kby8_XgbP_xe",
    "outputId": "f9c296a3-c26f-45ed-f786-e8b2e558b046"
   },
   "outputs": [
    {
     "data": {
      "image/png": "[encoded data removed]",
      "text/plain": [
       "<Figure size 1296x360 with 3 Axes>"
      ]
     },
     "metadata": {
      "needs_background": "light"
     },
     "output_type": "display_data"
    }
   ],
   "source": [
    "fig, ax = plt.subplots(1, 3)\n",
    "fig.set_size_inches(18, 5)\n",
    "\n",
    "hist = officer_counts.hist(bins=100, range = [0, 20], ax=ax[0])\n",
    "hist = officer_counts.hist(bins=100, range = [20, 50], ax=ax[1])\n",
    "hist = officer_counts.hist(bins=100, range = [50, 200], ax=ax[2])"
   ]
  },
  {
   "cell_type": "code",
   "execution_count": null,
   "metadata": {
    "colab": {
     "base_uri": "https://localhost:8080/",
     "height": 359
    },
    "id": "VjOZGjppKzvG",
    "outputId": "7ca4bfbb-2593-44fb-da1b-0c5d22bf1279"
   },
   "outputs": [],
   "source": [
    "allegations = df['Allegation'].value_counts().reset_index()\n",
    "allegations.columns = ['Allegation', 'Count of allegation']\n",
    "allegations.head(10)"
   ]
  },
  {
   "cell_type": "code",
   "execution_count": null,
   "metadata": {
    "colab": {
     "base_uri": "https://localhost:8080/",
     "height": 361
    },
    "id": "tJHbs3h7QHha",
    "outputId": "63e67633-c332-49fe-a588-f4227c150d62"
   },
   "outputs": [],
   "source": [
    "fig, ax = plt.subplots(1, 2)\n",
    "fig.set_size_inches(15, 5)\n",
    "\n",
    "years_of_complaints = df.groupby([\"year\"]).size().reset_index(name=\"Number of Complaints per Year\").sort_values(by=['year'], ascending = True)\n",
    "\n",
    "years_of_complaints.plot(kind='bar',x='year',y='Number of Complaints per Year', ax=ax[0])\n",
    "\n",
    "months_of_complaints = df.groupby([\"month\"]).size().reset_index(name=\"Number of Complaints per Month\").sort_values(by=['month'], ascending = True)\n",
    "months_of_complaints.plot(kind='bar',x='month',y='Number of Complaints per Month', ax=ax[1])\n",
    "\n",
    "years = df['year'].unique()\n",
    "years = [x for x in years if (math.isnan(x) == False)]\n",
    "years.sort()"
   ]
  },
  {
   "cell_type": "markdown",
   "metadata": {
    "id": "LVyWP1Mb6oXk"
   },
   "source": [
    "# Example use of Matrix Factorization"
   ]
  },
  {
   "cell_type": "code",
   "execution_count": null,
   "metadata": {
    "id": "pg9OhRuvx19c"
   },
   "outputs": [],
   "source": [
    "from sklearn import preprocessing\n",
    "\n",
    "officers    = np.array(df['Full Name']).astype(str)\n",
    "allegations = np.array(df['Allegation']).astype(str)\n",
    "\n",
    "# Convert from officer names and allegation names to label encoding.\n",
    "le1 = preprocessing.LabelEncoder()\n",
    "le1.fit(officers)\n",
    "\n",
    "le2 = preprocessing.LabelEncoder()\n",
    "le2.fit(allegations)\n",
    "\n",
    "xs = le1.transform(officers)\n",
    "ys = le2.transform(allegations)\n",
    "\n",
    "assert len(xs) == len(ys)"
   ]
  },
  {
   "cell_type": "code",
   "execution_count": null,
   "metadata": {
    "colab": {
     "base_uri": "https://localhost:8080/"
    },
    "id": "-6s7bfnVzmSx",
    "outputId": "3ced06bb-e1d1-4cb0-dc2f-0c3f4a11a4d7"
   },
   "outputs": [],
   "source": [
    "from sklearn.decomposition import TruncatedSVD, NMF\n",
    "from scipy.sparse import csr_matrix\n",
    "\n",
    "# Get counts of each officer/allegation interaction.\n",
    "non_unique_edges = zip(xs, ys)\n",
    "unique_edges_with_counts = pd.Series(non_unique_edges).value_counts()\n",
    "\n",
    "edges  = unique_edges_with_counts.index.values\n",
    "counts = unique_edges_with_counts.values\n",
    "\n",
    "u_xs, u_ys = zip(*edges)\n",
    "\n",
    "# Construct sparse matrix data type.\n",
    "X = csr_matrix((counts, (u_xs, u_ys)))\n",
    "\n",
    "# Compute Non-negative Matrix Factorization.\n",
    "n_components = 5\n",
    "nmf = NMF(n_components=n_components, random_state=41)\n",
    "nmf.fit(X)"
   ]
  },
  {
   "cell_type": "code",
   "execution_count": null,
   "metadata": {
    "colab": {
     "base_uri": "https://localhost:8080/"
    },
    "id": "ZxGjVdgVrFnY",
    "outputId": "fca87e26-238e-41ba-ade2-1a427e3d1c97"
   },
   "outputs": [],
   "source": [
    "print(f'Top {n_components} components lead to reconstruction error (in Frobenius norm) of {nmf.reconstruction_err_}.')\n",
    "print()\n",
    "\n",
    "topK = 5\n",
    "for i in range(nmf.components_.shape[0]):\n",
    "  print(f'Top allegations in component {i+1}:')\n",
    "  allegs = np.argsort(nmf.components_[i])[::-1][:topK]\n",
    "  for j in range(topK):\n",
    "    print(f'\\t{le2.classes_[allegs[j]]}')\n",
    "  print()"
   ]
  },
  {
   "cell_type": "code",
   "execution_count": null,
   "metadata": {
    "colab": {
     "base_uri": "https://localhost:8080/"
    },
    "id": "QpY-yUXY0MTj",
    "outputId": "f160bc31-0a22-4dc2-9935-ff994ad005a0"
   },
   "outputs": [],
   "source": [
    "# Compute truncated SVD (uses a randomized algorithm by default).\n",
    "n_components = 5\n",
    "svd = TruncatedSVD(n_components=n_components, random_state=41)\n",
    "svd.fit(X)\n",
    "\n",
    "# Look at the top principle components.\n",
    "print(f'Top {n_components} components explain {svd.explained_variance_ratio_.sum()} of the variance.')\n",
    "print(f'Breakdown: {svd.explained_variance_ratio_}\\n')"
   ]
  },
  {
   "cell_type": "markdown",
   "metadata": {
    "id": "7jqXvo8HFGFz"
   },
   "source": [
    "# CapStat.NYC Police Officer Database\n",
    "Compiled from CapStat.NYC by Wendy Ho\n",
    "\n",
    "https://github.com/wendyho/NYPD-Misconduct-Complaint-Database"
   ]
  },
  {
   "cell_type": "code",
   "execution_count": null,
   "metadata": {
    "colab": {
     "base_uri": "https://localhost:8080/",
     "height": 359
    },
    "id": "mTUluQpTFISJ",
    "outputId": "7adfcc1d-79ae-4861-92eb-270ece705f70"
   },
   "outputs": [],
   "source": [
    "file3 = open('officer_data.csv', 'r') \n",
    "df3 = pd.read_csv(file3)\n",
    "df3['Full Name'] = df3['First Name'] + \" \" + df3['Last Name']\n",
    "df3.head(10)"
   ]
  },
  {
   "cell_type": "code",
   "execution_count": null,
   "metadata": {
    "colab": {
     "base_uri": "https://localhost:8080/"
    },
    "id": "b1axrFzuFMLq",
    "outputId": "dd4a3d94-aa02-4072-ef48-f26cec323185"
   },
   "outputs": [],
   "source": [
    "df3_nameseries = df3['Full Name'].values.astype(str)\n",
    "df_nameseries  = df['Full Name'].values.astype(str)\n",
    "\n",
    "df_match = df.loc[df['Full Name'].isin(df3_nameseries)]\n",
    "df3_match = df3.loc[df3['Full Name'].isin(df_nameseries)]\n",
    "print(f'{len(df_match)} of the {len(df)} complaints matched to a police officer in the CapStat.NYC database.')\n",
    "print(f'{len(df3_match)} of the {len(df3)} police officers have at least one complaint against them.')"
   ]
  },
  {
   "cell_type": "code",
   "execution_count": null,
   "metadata": {
    "colab": {
     "base_uri": "https://localhost:8080/"
    },
    "id": "BsvaD-KXIoOD",
    "outputId": "aaa95ea0-1617-4b26-b934-a3ceb3dae834"
   },
   "outputs": [],
   "source": [
    "df3['Rank'].value_counts()"
   ]
  },
  {
   "cell_type": "code",
   "execution_count": null,
   "metadata": {
    "colab": {
     "base_uri": "https://localhost:8080/"
    },
    "id": "CCYjg2Q2ItxO",
    "outputId": "bcad4ecf-ac2d-4537-e67f-682e21fde013"
   },
   "outputs": [],
   "source": [
    "df3['Location'].value_counts()"
   ]
  },
  {
   "cell_type": "code",
   "execution_count": null,
   "metadata": {},
   "outputs": [],
   "source": []
  }
 ],
 "metadata": {
  "colab": {
   "collapsed_sections": [],
   "name": "HW3_starter_notebook.ipynb",
   "provenance": []
  },
  "kernelspec": {
   "display_name": "Python 3",
   "language": "python",
   "name": "python3"
  },
  "language_info": {
   "codemirror_mode": {
    "name": "ipython",
    "version": 3
   },
   "file_extension": ".py",
   "mimetype": "text/x-python",
   "name": "python",
   "nbconvert_exporter": "python",
   "pygments_lexer": "ipython3",
   "version": "3.7.1"
  }
 },
 "nbformat": 4,
 "nbformat_minor": 4
}
