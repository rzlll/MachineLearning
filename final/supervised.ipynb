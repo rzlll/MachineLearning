{
 "cells": [
  {
   "cell_type": "markdown",
   "metadata": {},
   "source": [
    "## Ideas\n",
    "\n",
    "*2-step approach*\n",
    "- Classify attack vs. benign (then evaluate)\n",
    "- Classify attack type among attack packets (then evaluate)\n",
    "\n",
    "*1-step*\n",
    "- Classify attack types immediately (then evaluate)\n",
    "\n",
    "*Per-attack-type*\n",
    "- Do classification for one attack type at a time (then evaluate)\n",
    "\n",
    "Do naive Bayes as baseline\n",
    "\n",
    "---\n",
    "\n",
    "*Research Questions*\n",
    "\n",
    "---\n",
    "\n",
    "Does 2 step do better than 1 step?\n",
    "\n",
    "Which attacks are hardest to predict?\n",
    "\n",
    "Which attacks are most dangerous relative to prediction difficulty?\n",
    "\n",
    "Does feature selection / dimensionality reduction help?"
   ]
  },
  {
   "cell_type": "code",
   "execution_count": 1,
   "metadata": {},
   "outputs": [
    {
     "name": "stderr",
     "output_type": "stream",
     "text": [
      "In /home/victwj/.local/lib/python3.6/site-packages/matplotlib/mpl-data/stylelib/_classic_test.mplstyle: \n",
      "The text.latex.preview rcparam was deprecated in Matplotlib 3.3 and will be removed two minor releases later.\n",
      "In /home/victwj/.local/lib/python3.6/site-packages/matplotlib/mpl-data/stylelib/_classic_test.mplstyle: \n",
      "The mathtext.fallback_to_cm rcparam was deprecated in Matplotlib 3.3 and will be removed two minor releases later.\n",
      "In /home/victwj/.local/lib/python3.6/site-packages/matplotlib/mpl-data/stylelib/_classic_test.mplstyle: Support for setting the 'mathtext.fallback_to_cm' rcParam is deprecated since 3.3 and will be removed two minor releases later; use 'mathtext.fallback : 'cm' instead.\n",
      "In /home/victwj/.local/lib/python3.6/site-packages/matplotlib/mpl-data/stylelib/_classic_test.mplstyle: \n",
      "The validate_bool_maybe_none function was deprecated in Matplotlib 3.3 and will be removed two minor releases later.\n",
      "In /home/victwj/.local/lib/python3.6/site-packages/matplotlib/mpl-data/stylelib/_classic_test.mplstyle: \n",
      "The savefig.jpeg_quality rcparam was deprecated in Matplotlib 3.3 and will be removed two minor releases later.\n",
      "In /home/victwj/.local/lib/python3.6/site-packages/matplotlib/mpl-data/stylelib/_classic_test.mplstyle: \n",
      "The keymap.all_axes rcparam was deprecated in Matplotlib 3.3 and will be removed two minor releases later.\n",
      "In /home/victwj/.local/lib/python3.6/site-packages/matplotlib/mpl-data/stylelib/_classic_test.mplstyle: \n",
      "The animation.avconv_path rcparam was deprecated in Matplotlib 3.3 and will be removed two minor releases later.\n",
      "In /home/victwj/.local/lib/python3.6/site-packages/matplotlib/mpl-data/stylelib/_classic_test.mplstyle: \n",
      "The animation.avconv_args rcparam was deprecated in Matplotlib 3.3 and will be removed two minor releases later.\n"
     ]
    }
   ],
   "source": [
    "import numpy as np\n",
    "import pandas as pd\n",
    "import os.path as path\n",
    "\n",
    "#Plotting\n",
    "import matplotlib\n",
    "import seaborn as sns\n",
    "import matplotlib.pyplot as plt\n",
    "from matplotlib.colors import ListedColormap\n",
    "from matplotlib.pyplot import figure\n",
    "\n",
    "# Sklearn imports\n",
    "import sklearn\n",
    "from sklearn.ensemble import RandomForestClassifier\n",
    "from sklearn.model_selection import cross_val_score\n",
    "from sklearn.model_selection import train_test_split\n",
    "from sklearn.metrics import accuracy_score, precision_score, recall_score, f1_score, confusion_matrix, fbeta_score, roc_auc_score\n",
    "\n",
    "\n",
    "#pd.set_option('display.max_columns', None)\n",
    "#pd.set_option('display.max_rows', None)"
   ]
  },
  {
   "cell_type": "code",
   "execution_count": 2,
   "metadata": {},
   "outputs": [],
   "source": [
    "data = \"./cicids\"\n",
    "cols = [' Bwd Packet Length Std',' PSH Flag Count',' min_seg_size_forward',' Min Packet Length',\n",
    "        ' ACK Flag Count',' Bwd Packet Length Min',' Fwd IAT Std','Init_Win_bytes_forward',\n",
    "        ' Flow IAT Max',' Bwd Packets/s',' URG Flag Count','Bwd IAT Total',' Label']\n",
    "\n",
    "df1 = pd.read_csv(path.join(data, \"Friday-WorkingHours-Afternoon-DDos.pcap_ISCX.csv\"), usecols = cols)\n",
    "df2 = pd.read_csv(path.join(data, \"Friday-WorkingHours-Afternoon-PortScan.pcap_ISCX.csv\"), usecols = cols)\n",
    "df3 = pd.read_csv(path.join(data, \"Friday-WorkingHours-Morning.pcap_ISCX.csv\"), usecols = cols)\n",
    "df4 = pd.read_csv(path.join(data, \"Monday-WorkingHours.pcap_ISCX.csv\"), usecols = cols)\n",
    "df5 = pd.read_csv(path.join(data, \"Thursday-WorkingHours-Afternoon-Infilteration.pcap_ISCX.csv\"), usecols = cols)\n",
    "df6 = pd.read_csv(path.join(data, \"Thursday-WorkingHours-Morning-WebAttacks.pcap_ISCX.csv\"), usecols = cols)\n",
    "df7 = pd.read_csv(path.join(data, \"Tuesday-WorkingHours.pcap_ISCX.csv\"), usecols = cols)\n",
    "df8 = pd.read_csv(path.join(data, \"Wednesday-WorkingHours.pcap_ISCX.csv\"), usecols = cols)"
   ]
  },
  {
   "cell_type": "code",
   "execution_count": 41,
   "metadata": {},
   "outputs": [],
   "source": [
    "df_all = [df1, df2, df3, df4, df5, df6, df7, df8]"
   ]
  },
  {
   "cell_type": "code",
   "execution_count": 4,
   "metadata": {},
   "outputs": [
    {
     "data": {
      "text/html": [
       "<div>\n",
       "<style scoped>\n",
       "    .dataframe tbody tr th:only-of-type {\n",
       "        vertical-align: middle;\n",
       "    }\n",
       "\n",
       "    .dataframe tbody tr th {\n",
       "        vertical-align: top;\n",
       "    }\n",
       "\n",
       "    .dataframe thead th {\n",
       "        text-align: right;\n",
       "    }\n",
       "</style>\n",
       "<table border=\"1\" class=\"dataframe\">\n",
       "  <thead>\n",
       "    <tr style=\"text-align: right;\">\n",
       "      <th></th>\n",
       "      <th>Bwd Packet Length Min</th>\n",
       "      <th>Bwd Packet Length Std</th>\n",
       "      <th>Flow IAT Max</th>\n",
       "      <th>Fwd IAT Std</th>\n",
       "      <th>Bwd IAT Total</th>\n",
       "      <th>Bwd Packets/s</th>\n",
       "      <th>Min Packet Length</th>\n",
       "      <th>PSH Flag Count</th>\n",
       "      <th>ACK Flag Count</th>\n",
       "      <th>URG Flag Count</th>\n",
       "      <th>Init_Win_bytes_forward</th>\n",
       "      <th>min_seg_size_forward</th>\n",
       "      <th>Label</th>\n",
       "    </tr>\n",
       "  </thead>\n",
       "  <tbody>\n",
       "    <tr>\n",
       "      <th>96385</th>\n",
       "      <td>0</td>\n",
       "      <td>4128.319301</td>\n",
       "      <td>128002</td>\n",
       "      <td>1.129179e+04</td>\n",
       "      <td>145131</td>\n",
       "      <td>27.548968</td>\n",
       "      <td>0</td>\n",
       "      <td>1</td>\n",
       "      <td>0</td>\n",
       "      <td>0</td>\n",
       "      <td>8192</td>\n",
       "      <td>20</td>\n",
       "      <td>DDoS</td>\n",
       "    </tr>\n",
       "    <tr>\n",
       "      <th>146898</th>\n",
       "      <td>6</td>\n",
       "      <td>0.000000</td>\n",
       "      <td>7734122</td>\n",
       "      <td>0.000000e+00</td>\n",
       "      <td>7755930</td>\n",
       "      <td>0.773392</td>\n",
       "      <td>6</td>\n",
       "      <td>0</td>\n",
       "      <td>1</td>\n",
       "      <td>1</td>\n",
       "      <td>229</td>\n",
       "      <td>20</td>\n",
       "      <td>BENIGN</td>\n",
       "    </tr>\n",
       "    <tr>\n",
       "      <th>198496</th>\n",
       "      <td>48</td>\n",
       "      <td>0.000000</td>\n",
       "      <td>100</td>\n",
       "      <td>0.000000e+00</td>\n",
       "      <td>50</td>\n",
       "      <td>10101.010100</td>\n",
       "      <td>32</td>\n",
       "      <td>0</td>\n",
       "      <td>0</td>\n",
       "      <td>0</td>\n",
       "      <td>-1</td>\n",
       "      <td>32</td>\n",
       "      <td>BENIGN</td>\n",
       "    </tr>\n",
       "    <tr>\n",
       "      <th>118099</th>\n",
       "      <td>0</td>\n",
       "      <td>0.000000</td>\n",
       "      <td>6961743</td>\n",
       "      <td>3.480518e+06</td>\n",
       "      <td>0</td>\n",
       "      <td>0.000000</td>\n",
       "      <td>6</td>\n",
       "      <td>0</td>\n",
       "      <td>1</td>\n",
       "      <td>0</td>\n",
       "      <td>256</td>\n",
       "      <td>20</td>\n",
       "      <td>DDoS</td>\n",
       "    </tr>\n",
       "    <tr>\n",
       "      <th>172260</th>\n",
       "      <td>0</td>\n",
       "      <td>3327.769794</td>\n",
       "      <td>622604</td>\n",
       "      <td>3.691097e+02</td>\n",
       "      <td>623722</td>\n",
       "      <td>8.015711</td>\n",
       "      <td>0</td>\n",
       "      <td>1</td>\n",
       "      <td>0</td>\n",
       "      <td>0</td>\n",
       "      <td>8192</td>\n",
       "      <td>20</td>\n",
       "      <td>DDoS</td>\n",
       "    </tr>\n",
       "    <tr>\n",
       "      <th>108998</th>\n",
       "      <td>0</td>\n",
       "      <td>3022.508098</td>\n",
       "      <td>1701559</td>\n",
       "      <td>1.290470e+04</td>\n",
       "      <td>1720944</td>\n",
       "      <td>2.905171</td>\n",
       "      <td>0</td>\n",
       "      <td>1</td>\n",
       "      <td>0</td>\n",
       "      <td>0</td>\n",
       "      <td>8192</td>\n",
       "      <td>20</td>\n",
       "      <td>DDoS</td>\n",
       "    </tr>\n",
       "    <tr>\n",
       "      <th>153878</th>\n",
       "      <td>0</td>\n",
       "      <td>0.000000</td>\n",
       "      <td>6046835</td>\n",
       "      <td>3.023097e+06</td>\n",
       "      <td>0</td>\n",
       "      <td>0.000000</td>\n",
       "      <td>6</td>\n",
       "      <td>0</td>\n",
       "      <td>1</td>\n",
       "      <td>0</td>\n",
       "      <td>256</td>\n",
       "      <td>20</td>\n",
       "      <td>DDoS</td>\n",
       "    </tr>\n",
       "    <tr>\n",
       "      <th>175278</th>\n",
       "      <td>0</td>\n",
       "      <td>0.000000</td>\n",
       "      <td>215</td>\n",
       "      <td>4.101219e+01</td>\n",
       "      <td>0</td>\n",
       "      <td>0.000000</td>\n",
       "      <td>0</td>\n",
       "      <td>0</td>\n",
       "      <td>1</td>\n",
       "      <td>0</td>\n",
       "      <td>40544</td>\n",
       "      <td>32</td>\n",
       "      <td>BENIGN</td>\n",
       "    </tr>\n",
       "    <tr>\n",
       "      <th>204303</th>\n",
       "      <td>94</td>\n",
       "      <td>0.000000</td>\n",
       "      <td>160</td>\n",
       "      <td>0.000000e+00</td>\n",
       "      <td>3</td>\n",
       "      <td>12048.192770</td>\n",
       "      <td>44</td>\n",
       "      <td>0</td>\n",
       "      <td>0</td>\n",
       "      <td>0</td>\n",
       "      <td>-1</td>\n",
       "      <td>32</td>\n",
       "      <td>BENIGN</td>\n",
       "    </tr>\n",
       "    <tr>\n",
       "      <th>162026</th>\n",
       "      <td>0</td>\n",
       "      <td>0.000000</td>\n",
       "      <td>110985</td>\n",
       "      <td>6.322814e+04</td>\n",
       "      <td>0</td>\n",
       "      <td>0.000000</td>\n",
       "      <td>6</td>\n",
       "      <td>0</td>\n",
       "      <td>1</td>\n",
       "      <td>0</td>\n",
       "      <td>256</td>\n",
       "      <td>20</td>\n",
       "      <td>DDoS</td>\n",
       "    </tr>\n",
       "  </tbody>\n",
       "</table>\n",
       "</div>"
      ],
      "text/plain": [
       "         Bwd Packet Length Min   Bwd Packet Length Std   Flow IAT Max  \\\n",
       "96385                        0             4128.319301         128002   \n",
       "146898                       6                0.000000        7734122   \n",
       "198496                      48                0.000000            100   \n",
       "118099                       0                0.000000        6961743   \n",
       "172260                       0             3327.769794         622604   \n",
       "108998                       0             3022.508098        1701559   \n",
       "153878                       0                0.000000        6046835   \n",
       "175278                       0                0.000000            215   \n",
       "204303                      94                0.000000            160   \n",
       "162026                       0                0.000000         110985   \n",
       "\n",
       "         Fwd IAT Std  Bwd IAT Total   Bwd Packets/s   Min Packet Length  \\\n",
       "96385   1.129179e+04         145131       27.548968                   0   \n",
       "146898  0.000000e+00        7755930        0.773392                   6   \n",
       "198496  0.000000e+00             50    10101.010100                  32   \n",
       "118099  3.480518e+06              0        0.000000                   6   \n",
       "172260  3.691097e+02         623722        8.015711                   0   \n",
       "108998  1.290470e+04        1720944        2.905171                   0   \n",
       "153878  3.023097e+06              0        0.000000                   6   \n",
       "175278  4.101219e+01              0        0.000000                   0   \n",
       "204303  0.000000e+00              3    12048.192770                  44   \n",
       "162026  6.322814e+04              0        0.000000                   6   \n",
       "\n",
       "         PSH Flag Count   ACK Flag Count   URG Flag Count  \\\n",
       "96385                 1                0                0   \n",
       "146898                0                1                1   \n",
       "198496                0                0                0   \n",
       "118099                0                1                0   \n",
       "172260                1                0                0   \n",
       "108998                1                0                0   \n",
       "153878                0                1                0   \n",
       "175278                0                1                0   \n",
       "204303                0                0                0   \n",
       "162026                0                1                0   \n",
       "\n",
       "        Init_Win_bytes_forward   min_seg_size_forward   Label  \n",
       "96385                     8192                     20    DDoS  \n",
       "146898                     229                     20  BENIGN  \n",
       "198496                      -1                     32  BENIGN  \n",
       "118099                     256                     20    DDoS  \n",
       "172260                    8192                     20    DDoS  \n",
       "108998                    8192                     20    DDoS  \n",
       "153878                     256                     20    DDoS  \n",
       "175278                   40544                     32  BENIGN  \n",
       "204303                      -1                     32  BENIGN  \n",
       "162026                     256                     20    DDoS  "
      ]
     },
     "execution_count": 4,
     "metadata": {},
     "output_type": "execute_result"
    }
   ],
   "source": [
    "df1.sample(10)"
   ]
  },
  {
   "cell_type": "code",
   "execution_count": 5,
   "metadata": {},
   "outputs": [
    {
     "name": "stdout",
     "output_type": "stream",
     "text": [
      "DF1\n",
      "DDoS      128027\n",
      "BENIGN     97718\n",
      "Name:  Label, dtype: int64 \n",
      "\n",
      "DF2\n",
      "PortScan    158930\n",
      "BENIGN      127537\n",
      "Name:  Label, dtype: int64 \n",
      "\n",
      "DF3\n",
      "BENIGN    189067\n",
      "Bot         1966\n",
      "Name:  Label, dtype: int64 \n",
      "\n",
      "DF4\n",
      "BENIGN    529918\n",
      "Name:  Label, dtype: int64 \n",
      "\n",
      "DF5\n",
      "BENIGN          288566\n",
      "Infiltration        36\n",
      "Name:  Label, dtype: int64 \n",
      "\n",
      "DF6\n",
      "BENIGN                        168186\n",
      "Web Attack � Brute Force        1507\n",
      "Web Attack � XSS                 652\n",
      "Web Attack � Sql Injection        21\n",
      "Name:  Label, dtype: int64 \n",
      "\n",
      "DF7\n",
      "BENIGN         432074\n",
      "FTP-Patator      7938\n",
      "SSH-Patator      5897\n",
      "Name:  Label, dtype: int64 \n",
      "\n",
      "DF8\n",
      "BENIGN              440031\n",
      "DoS Hulk            231073\n",
      "DoS GoldenEye        10293\n",
      "DoS slowloris         5796\n",
      "DoS Slowhttptest      5499\n",
      "Heartbleed              11\n",
      "Name:  Label, dtype: int64 \n",
      "\n"
     ]
    }
   ],
   "source": [
    "for i, df in enumerate(df_all):\n",
    "    print(\"DF\" + str(i + 1)) \n",
    "    print(df[' Label'].value_counts(), \"\\n\")"
   ]
  },
  {
   "cell_type": "markdown",
   "metadata": {},
   "source": [
    "DF4 (Monday) is all benign."
   ]
  },
  {
   "cell_type": "code",
   "execution_count": 6,
   "metadata": {},
   "outputs": [
    {
     "name": "stdout",
     "output_type": "stream",
     "text": [
      "DF1 225745\n",
      "DF2 286467\n",
      "DF3 191033\n",
      "DF4 529918\n",
      "DF5 288602\n",
      "DF6 170366\n",
      "DF7 445909\n",
      "DF8 692703\n",
      "Total length: 2830743\n"
     ]
    }
   ],
   "source": [
    "len_total = 0\n",
    "for i, df in enumerate(df_all):\n",
    "    print(\"DF\" + str(i + 1), len(df.index))\n",
    "    len_total += len(df.index)\n",
    "print(\"Total length:\", len_total)"
   ]
  },
  {
   "cell_type": "markdown",
   "metadata": {},
   "source": [
    "## Random Forest on DF1"
   ]
  },
  {
   "cell_type": "code",
   "execution_count": 7,
   "metadata": {},
   "outputs": [],
   "source": [
    "df1_labels = df1[\" Label\"]\n",
    "df1_train = df1.drop(columns = [\" Label\"])\n",
    "\n",
    "# Convert labels to binary\n",
    "replace = {\n",
    "    \"DDoS\": 1,\n",
    "    \"BENIGN\": 0,\n",
    "}\n",
    "df1_labels = df1_labels.replace(replace)"
   ]
  },
  {
   "cell_type": "code",
   "execution_count": 8,
   "metadata": {},
   "outputs": [],
   "source": [
    "# Cross validation\n",
    "rf = RandomForestClassifier()\n",
    "scores = cross_val_score(rf, df1_train, df1_labels, cv=5)"
   ]
  },
  {
   "cell_type": "code",
   "execution_count": 9,
   "metadata": {},
   "outputs": [
    {
     "data": {
      "text/plain": [
       "array([0.99962347, 0.99980066, 0.99966777, 0.99971206, 0.99842743])"
      ]
     },
     "execution_count": 9,
     "metadata": {},
     "output_type": "execute_result"
    }
   ],
   "source": [
    "scores"
   ]
  },
  {
   "cell_type": "code",
   "execution_count": 10,
   "metadata": {},
   "outputs": [
    {
     "name": "stdout",
     "output_type": "stream",
     "text": [
      "0.999 accuracy with a standard deviation of 0.001\n"
     ]
    }
   ],
   "source": [
    "print(\"%0.3f accuracy with a standard deviation of %0.3f\" % (scores.mean(), scores.std()))"
   ]
  },
  {
   "cell_type": "code",
   "execution_count": 11,
   "metadata": {},
   "outputs": [],
   "source": [
    "rf = RandomForestClassifier()\n",
    "xtrain, xtest, ytrain, ytest = train_test_split(df1_train, df1_labels, test_size=0.3, random_state=0)"
   ]
  },
  {
   "cell_type": "code",
   "execution_count": 12,
   "metadata": {},
   "outputs": [
    {
     "data": {
      "text/plain": [
       "RandomForestClassifier(bootstrap=True, ccp_alpha=0.0, class_weight=None,\n",
       "                       criterion='gini', max_depth=None, max_features='auto',\n",
       "                       max_leaf_nodes=None, max_samples=None,\n",
       "                       min_impurity_decrease=0.0, min_impurity_split=None,\n",
       "                       min_samples_leaf=1, min_samples_split=2,\n",
       "                       min_weight_fraction_leaf=0.0, n_estimators=100,\n",
       "                       n_jobs=None, oob_score=False, random_state=None,\n",
       "                       verbose=0, warm_start=False)"
      ]
     },
     "execution_count": 12,
     "metadata": {},
     "output_type": "execute_result"
    }
   ],
   "source": [
    "rf.fit(xtrain, ytrain)"
   ]
  },
  {
   "cell_type": "code",
   "execution_count": 13,
   "metadata": {},
   "outputs": [],
   "source": [
    "predictions = rf.predict(xtest)"
   ]
  },
  {
   "cell_type": "code",
   "execution_count": 14,
   "metadata": {},
   "outputs": [
    {
     "name": "stdout",
     "output_type": "stream",
     "text": [
      "Accuracy score:  0.9996160888311382\n",
      "Precision score:  0.9997389783613062\n",
      "Recall score:  0.9995824307748519\n"
     ]
    }
   ],
   "source": [
    "print(\"Accuracy score: \", accuracy_score(ytest, predictions))\n",
    "print(\"Precision score: \", precision_score(ytest, predictions))\n",
    "print(\"Recall score: \", recall_score(ytest, predictions))"
   ]
  },
  {
   "cell_type": "markdown",
   "metadata": {},
   "source": [
    "## Random Forest Generic"
   ]
  },
  {
   "cell_type": "code",
   "execution_count": 27,
   "metadata": {},
   "outputs": [
    {
     "name": "stdout",
     "output_type": "stream",
     "text": [
      "Accuracy score:  0.9996013230169511\n",
      "Precision score:  0.9997128836917937\n",
      "Recall score:  0.9995824307748519\n",
      "F1 score:  0.9996476529773322\n",
      "F2 score:  0.9996085186345132\n",
      "Confusion Matrix:  [[29396    11]\n",
      " [   16 38301]]\n",
      "TN  29396\n",
      "FN  11\n",
      "FP  16\n",
      "TP  38301\n"
     ]
    }
   ],
   "source": [
    "rf, predictions = randomForest(df1)"
   ]
  },
  {
   "cell_type": "code",
   "execution_count": 29,
   "metadata": {},
   "outputs": [],
   "source": [
    "def randomForest(df):\n",
    "    labels = df[\" Label\"]\n",
    "    train = df.drop(columns = [\" Label\"])\n",
    "\n",
    "    # Convert labels to binary\n",
    "    replace = {}\n",
    "    for label in df[\" Label\"].unique():\n",
    "        replace[label] = 0 if label == \"BENIGN\" else 1\n",
    "        \n",
    "    labels = labels.replace(replace)\n",
    "    \n",
    "    rf = RandomForestClassifier()\n",
    "\n",
    "    xtrain, xtest, ytrain, ytest = train_test_split(train, labels, test_size=0.3, random_state=0) #stratify=labels)\n",
    "    rf.fit(xtrain, ytrain)\n",
    "    predictions = rf.predict(xtest)\n",
    "    cm = confusion_matrix(ytest, predictions)\n",
    "    print(ytest.value_counts()[1])\n",
    "    \n",
    "    print(\"Accuracy score: \", accuracy_score(ytest, predictions))\n",
    "    print(\"Precision score: \", precision_score(ytest, predictions))\n",
    "    print(\"Recall score: \", recall_score(ytest, predictions))\n",
    "    print(\"F1 score: \", f1_score(ytest, predictions))\n",
    "    print(\"F2 score: \", fbeta_score(ytest, predictions, 2))\n",
    "    print(\"FP/A: \", 1-(cm[1][0] / ytest.value_counts()[1]))\n",
    "    try:\n",
    "        print(\"TN \", cm[0][0])\n",
    "        print(\"FN \", cm[0][1])\n",
    "        print(\"FP \", cm[1][0])\n",
    "        print(\"TP \", cm[1][1])\n",
    "    except IndexError:\n",
    "        pass\n",
    "    try:\n",
    "        print(\"AUCROC \", roc_auc_score(ytest, predictions))\n",
    "    except ValueError:\n",
    "        pass\n",
    "    print(\"Confusion Matrix: \", cm)\n",
    "    return rf, predictions"
   ]
  },
  {
   "cell_type": "code",
   "execution_count": 28,
   "metadata": {},
   "outputs": [],
   "source": [
    "cm = confusion_matrix(ytest, predictions)"
   ]
  },
  {
   "cell_type": "code",
   "execution_count": 29,
   "metadata": {},
   "outputs": [
    {
     "data": {
      "text/plain": [
       "array([[29396,    11],\n",
       "       [   16, 38301]])"
      ]
     },
     "execution_count": 29,
     "metadata": {},
     "output_type": "execute_result"
    }
   ],
   "source": [
    "cm"
   ]
  },
  {
   "cell_type": "code",
   "execution_count": 30,
   "metadata": {},
   "outputs": [
    {
     "data": {
      "text/plain": [
       "Text(91.68, 0.5, 'predicted label')"
      ]
     },
     "execution_count": 30,
     "metadata": {},
     "output_type": "execute_result"
    },
    {
     "data": {
      "image/png": "[encoded data removed]",
      "text/plain": [
       "<Figure size 432x288 with 1 Axes>"
      ]
     },
     "metadata": {
      "needs_background": "light"
     },
     "output_type": "display_data"
    }
   ],
   "source": [
    "\n",
    "sns.heatmap(cm, square=True, annot=True, cmap=\"Blues\", cbar=False,\n",
    "xticklabels=[\"negative\", \"positive\"], yticklabels=[\"negative\", \"positive\"], fmt='g')\n",
    "plt.xlabel(\"true label\")\n",
    "plt.ylabel(\"predicted label\")"
   ]
  },
  {
   "cell_type": "code",
   "execution_count": 31,
   "metadata": {},
   "outputs": [
    {
     "data": {
      "text/plain": [
       "array([0.11035797, 0.16351123, 0.02787378, 0.15902995, 0.0868038 ,\n",
       "       0.06306444, 0.04962743, 0.01175856, 0.00866003, 0.02929386,\n",
       "       0.25677174, 0.03324722])"
      ]
     },
     "execution_count": 31,
     "metadata": {},
     "output_type": "execute_result"
    }
   ],
   "source": [
    "#https://mljar.com/blog/feature-importance-in-random-forest/\n",
    "rf.feature_importances_"
   ]
  },
  {
   "cell_type": "code",
   "execution_count": 32,
   "metadata": {},
   "outputs": [
    {
     "data": {
      "text/plain": [
       "<BarContainer object of 12 artists>"
      ]
     },
     "execution_count": 32,
     "metadata": {},
     "output_type": "execute_result"
    },
    {
     "data": {
      "image/png": "[encoded data removed]",
      "text/plain": [
       "<Figure size 432x288 with 1 Axes>"
      ]
     },
     "metadata": {
      "needs_background": "light"
     },
     "output_type": "display_data"
    }
   ],
   "source": [
    "plt.barh(df1.columns.values[:-1], rf.feature_importances_)"
   ]
  },
  {
   "cell_type": "code",
   "execution_count": 33,
   "metadata": {},
   "outputs": [
    {
     "data": {
      "text/plain": [
       "<BarContainer object of 12 artists>"
      ]
     },
     "execution_count": 33,
     "metadata": {},
     "output_type": "execute_result"
    },
    {
     "data": {
      "image/png": "[encoded data removed]",
      "text/plain": [
       "<Figure size 432x288 with 1 Axes>"
      ]
     },
     "metadata": {
      "needs_background": "light"
     },
     "output_type": "display_data"
    }
   ],
   "source": [
    "sorted_idx = rf.feature_importances_.argsort()\n",
    "plt.barh(df1.columns.values[:-1][sorted_idx], rf.feature_importances_[sorted_idx])"
   ]
  },
  {
   "cell_type": "code",
   "execution_count": 58,
   "metadata": {
    "scrolled": true
   },
   "outputs": [
    {
     "name": "stdout",
     "output_type": "stream",
     "text": [
      "DF1\n",
      "38317\n",
      "Accuracy score:  0.9995717913885772\n",
      "Precision score:  0.9996867822092295\n",
      "Recall score:  0.9995563326982801\n",
      "F1 score:  0.9996215531978755\n",
      "F2 score:  0.999582419876814\n",
      "FP/A:  0.9995563326982801\n",
      "TN  29395\n",
      "FN  12\n",
      "FP  17\n",
      "TP  38300\n",
      "AUCROC  0.9995741332957855\n",
      "Confusion Matrix:  [[29395    12]\n",
      " [   17 38300]]\n",
      "DF2\n",
      "47679\n",
      "Accuracy score:  0.9999069128820935\n",
      "Precision score:  0.9999790237660731\n",
      "Recall score:  0.9998531848402861\n",
      "F1 score:  0.9999161003439886\n",
      "F2 score:  0.999878350091657\n",
      "FP/A:  0.9998531848402861\n",
      "TN  38261\n",
      "FN  1\n",
      "FP  7\n",
      "TP  47672\n",
      "AUCROC  0.9999135246244187\n",
      "Confusion Matrix:  [[38261     1]\n",
      " [    7 47672]]\n",
      "DF3\n",
      "608\n",
      "Accuracy score:  0.9992845925667423\n",
      "Precision score:  0.9780775716694773\n",
      "Recall score:  0.9539473684210527\n",
      "F1 score:  0.9658617818484596\n",
      "F2 score:  0.9586776859504132\n",
      "FP/A:  0.9539473684210527\n",
      "TN  56689\n",
      "FN  13\n",
      "FP  28\n",
      "TP  580\n",
      "AUCROC  0.9768590498060962\n",
      "Confusion Matrix:  [[56689    13]\n",
      " [   28   580]]\n",
      "DF5\n",
      "12\n",
      "Accuracy score:  0.9999191508529585\n",
      "Precision score:  1.0\n",
      "Recall score:  0.4166666666666667\n",
      "F1 score:  0.5882352941176471\n",
      "F2 score:  0.4716981132075472\n",
      "FP/A:  0.41666666666666663\n",
      "TN  86569\n",
      "FN  0\n",
      "FP  7\n",
      "TP  5\n",
      "AUCROC  0.7083333333333334\n",
      "Confusion Matrix:  [[86569     0]\n",
      " [    7     5]]\n",
      "DF6\n",
      "634\n",
      "Accuracy score:  0.9994912932889846\n",
      "Precision score:  0.9840764331210191\n",
      "Recall score:  0.9747634069400631\n",
      "F1 score:  0.9793977812995246\n",
      "F2 score:  0.9766118836915298\n",
      "FP/A:  0.9747634069400631\n",
      "TN  50466\n",
      "FN  10\n",
      "FP  16\n",
      "TP  618\n",
      "AUCROC  0.987282646492458\n",
      "Confusion Matrix:  [[50466    10]\n",
      " [   16   618]]\n",
      "DF7\n",
      "4280\n",
      "Accuracy score:  0.9993944966473055\n",
      "Precision score:  0.9983384761452646\n",
      "Recall score:  0.9827102803738318\n",
      "F1 score:  0.9904627340162486\n",
      "F2 score:  0.9857966530727041\n",
      "FP/A:  0.9827102803738318\n",
      "TN  129486\n",
      "FN  7\n",
      "FP  74\n",
      "TP  4206\n",
      "AUCROC  0.9913281116988895\n",
      "Confusion Matrix:  [[129486      7]\n",
      " [    74   4206]]\n",
      "DF8\n",
      "75681\n",
      "Accuracy score:  0.9992541299546223\n",
      "Precision score:  0.9985346147753076\n",
      "Recall score:  0.9994186123333465\n",
      "F1 score:  0.9989764179912699\n",
      "F2 score:  0.9992416876281468\n",
      "FP/A:  0.9994186123333465\n",
      "TN  132019\n",
      "FN  111\n",
      "FP  44\n",
      "TP  75637\n",
      "AUCROC  0.999289265297832\n",
      "Confusion Matrix:  [[132019    111]\n",
      " [    44  75637]]\n"
     ]
    }
   ],
   "source": [
    "for i, df in enumerate(df_all):\n",
    "    if i + 1 == 4:\n",
    "        continue\n",
    "    print(\"DF\" + str(i + 1))\n",
    "    randomForest(df)"
   ]
  },
  {
   "cell_type": "code",
   "execution_count": 54,
   "metadata": {},
   "outputs": [
    {
     "name": "stdout",
     "output_type": "stream",
     "text": [
      "38408\n",
      "Accuracy score:  0.9996160888311382\n",
      "Precision score:  0.999583485187692\n",
      "Recall score:  0.9997396375755051\n",
      "F1 score:  0.9996615552836428\n",
      "F2 score:  0.9997084031950678\n",
      "FP/A:  0.0002603624244948969\n",
      "TN  29300\n",
      "FN  16\n",
      "FP  10\n",
      "TP  38398\n",
      "AUCROC  0.999596930262715\n",
      "Confusion Matrix:  [[29300    16]\n",
      " [   10 38398]]\n"
     ]
    },
    {
     "data": {
      "text/plain": [
       "(RandomForestClassifier(bootstrap=True, ccp_alpha=0.0, class_weight=None,\n",
       "                        criterion='gini', max_depth=None, max_features='auto',\n",
       "                        max_leaf_nodes=None, max_samples=None,\n",
       "                        min_impurity_decrease=0.0, min_impurity_split=None,\n",
       "                        min_samples_leaf=1, min_samples_split=2,\n",
       "                        min_weight_fraction_leaf=0.0, n_estimators=100,\n",
       "                        n_jobs=None, oob_score=False, random_state=None,\n",
       "                        verbose=0, warm_start=False),\n",
       " array([1, 1, 1, ..., 1, 0, 1]))"
      ]
     },
     "execution_count": 54,
     "metadata": {},
     "output_type": "execute_result"
    }
   ],
   "source": [
    "randomForest(df_all[0])"
   ]
  },
  {
   "cell_type": "code",
   "execution_count": 44,
   "metadata": {},
   "outputs": [],
   "source": [
    "df_combined = pd.concat([df1, df2, df3, df5, df6, df7, df8], ignore_index=True) #Ignore df4"
   ]
  },
  {
   "cell_type": "code",
   "execution_count": 48,
   "metadata": {},
   "outputs": [
    {
     "data": {
      "text/plain": [
       "BENIGN                        1743179\n",
       "DoS Hulk                       231073\n",
       "PortScan                       158930\n",
       "DDoS                           128027\n",
       "DoS GoldenEye                   10293\n",
       "FTP-Patator                      7938\n",
       "SSH-Patator                      5897\n",
       "DoS slowloris                    5796\n",
       "DoS Slowhttptest                 5499\n",
       "Bot                              1966\n",
       "Web Attack � Brute Force         1507\n",
       "Web Attack � XSS                  652\n",
       "Infiltration                       36\n",
       "Web Attack � Sql Injection         21\n",
       "Heartbleed                         11\n",
       "Name:  Label, dtype: int64"
      ]
     },
     "execution_count": 48,
     "metadata": {},
     "output_type": "execute_result"
    }
   ],
   "source": [
    "df_combined[\" Label\"].value_counts()"
   ]
  },
  {
   "cell_type": "code",
   "execution_count": 67,
   "metadata": {},
   "outputs": [],
   "source": [
    "def randomForestCombined(df, labelPositive):\n",
    "    labels = df[\" Label\"]\n",
    "    train = df.drop(columns = [\" Label\"])\n",
    "    \n",
    "    replace = {}\n",
    "    for label in df_combined[\" Label\"].unique():\n",
    "        replace[label] = 1 if label == labelPositive else 0\n",
    "    labels = labels.replace(replace)\n",
    "\n",
    "    rf = RandomForestClassifier()\n",
    "\n",
    "    xtrain, xtest, ytrain, ytest = train_test_split(train, labels, test_size=0.3, random_state=0) #stratify=labels)\n",
    "    rf.fit(xtrain, ytrain)\n",
    "    predictions = rf.predict(xtest)\n",
    "    cm = confusion_matrix(ytest, predictions)\n",
    "    print(labelPositive)\n",
    "    print(\"Accuracy score: \", accuracy_score(ytest, predictions))\n",
    "    print(\"F1 score: \", f1_score(ytest, predictions))\n",
    "    print(\"F2 score: \", fbeta_score(ytest, predictions, 2))\n",
    "    print(\"AUCROC \", roc_auc_score(ytest, predictions))\n",
    "    print(\"Precision score: \", precision_score(ytest, predictions))\n",
    "    print(\"Recall score: \", recall_score(ytest, predictions))\n",
    "    print(\"Sensitivity: \", 1-(cm[1][0] / ytest.value_counts()[1]))\n",
    "    print(\"Confusion Matrix: \", cm)\n",
    "    return rf, predictions"
   ]
  },
  {
   "cell_type": "code",
   "execution_count": 71,
   "metadata": {},
   "outputs": [
    {
     "name": "stdout",
     "output_type": "stream",
     "text": [
      "DDoS\n",
      "Accuracy score:  0.9999188697395719\n",
      "F1 score:  0.9992707953539247\n",
      "F2 score:  0.9992551811784806\n",
      "AUCROC  0.999601675681755\n",
      "Precision score:  0.9992968200640675\n",
      "Recall score:  0.9992447719992709\n",
      "Sensitivity:  0.9992447719992709\n",
      "Confusion Matrix:  [[651822     27]\n",
      " [    29  38370]]\n"
     ]
    },
    {
     "data": {
      "text/plain": [
       "(RandomForestClassifier(bootstrap=True, ccp_alpha=0.0, class_weight=None,\n",
       "                        criterion='gini', max_depth=None, max_features='auto',\n",
       "                        max_leaf_nodes=None, max_samples=None,\n",
       "                        min_impurity_decrease=0.0, min_impurity_split=None,\n",
       "                        min_samples_leaf=1, min_samples_split=2,\n",
       "                        min_weight_fraction_leaf=0.0, n_estimators=100,\n",
       "                        n_jobs=None, oob_score=False, random_state=None,\n",
       "                        verbose=0, warm_start=False),\n",
       " array([0, 0, 0, ..., 0, 0, 0]))"
      ]
     },
     "execution_count": 71,
     "metadata": {},
     "output_type": "execute_result"
    }
   ],
   "source": [
    "randomForestCombined(df_combined, \"DDoS\")"
   ]
  },
  {
   "cell_type": "code",
   "execution_count": 70,
   "metadata": {},
   "outputs": [
    {
     "name": "stdout",
     "output_type": "stream",
     "text": [
      "PortScan\n",
      "Accuracy score:  0.9995233597199847\n",
      "F1 score:  0.9965540717465305\n",
      "F2 score:  0.9983170070425491\n",
      "AUCROC  0.9995105849540717\n",
      "Precision score:  0.9936296420067672\n",
      "Recall score:  0.999495766539908\n",
      "Sensitivity:  0.999495766539908\n",
      "Confusion Matrix:  [[642346    305]\n",
      " [    24  47573]]\n"
     ]
    },
    {
     "data": {
      "text/plain": [
       "(RandomForestClassifier(bootstrap=True, ccp_alpha=0.0, class_weight=None,\n",
       "                        criterion='gini', max_depth=None, max_features='auto',\n",
       "                        max_leaf_nodes=None, max_samples=None,\n",
       "                        min_impurity_decrease=0.0, min_impurity_split=None,\n",
       "                        min_samples_leaf=1, min_samples_split=2,\n",
       "                        min_weight_fraction_leaf=0.0, n_estimators=100,\n",
       "                        n_jobs=None, oob_score=False, random_state=None,\n",
       "                        verbose=0, warm_start=False),\n",
       " array([0, 0, 0, ..., 0, 0, 0]))"
      ]
     },
     "execution_count": 70,
     "metadata": {},
     "output_type": "execute_result"
    }
   ],
   "source": [
    "randomForestCombined(df_combined, \"PortScan\")"
   ]
  },
  {
   "cell_type": "code",
   "execution_count": 81,
   "metadata": {},
   "outputs": [
    {
     "name": "stdout",
     "output_type": "stream",
     "text": [
      "Bot\n",
      "Accuracy score:  0.9995914511885583\n",
      "F1 score:  0.7539267015706805\n",
      "F2 score:  0.7339449541284403\n",
      "AUCROC  0.8605176259232361\n",
      "Precision score:  0.7897623400365631\n",
      "Recall score:  0.7212020033388982\n",
      "Sensitivity:  0.7212020033388982\n",
      "Confusion Matrix:  [[689534    115]\n",
      " [   167    432]]\n",
      "Infiltration\n",
      "Accuracy score:  0.9999927562267474\n",
      "F1 score:  0.7368421052631579\n",
      "F2 score:  0.6363636363636365\n",
      "AUCROC  0.7916666666666667\n",
      "Precision score:  1.0\n",
      "Recall score:  0.5833333333333334\n",
      "Sensitivity:  0.5833333333333333\n",
      "Confusion Matrix:  [[690236      0]\n",
      " [     5      7]]\n"
     ]
    }
   ],
   "source": [
    "for label in df_combined[\" Label\"].unique()[3:5]:\n",
    "    randomForestCombined(df_combined, label)"
   ]
  },
  {
   "cell_type": "code",
   "execution_count": 83,
   "metadata": {},
   "outputs": [
    {
     "name": "stdout",
     "output_type": "stream",
     "text": [
      "Web Attack � Brute Force\n",
      "Accuracy score:  0.9996392600920249\n",
      "F1 score:  0.7381703470031545\n",
      "F2 score:  0.7433290978398984\n",
      "AUCROC  0.873310022102085\n",
      "Precision score:  0.7297297297297297\n",
      "Recall score:  0.7468085106382979\n",
      "Sensitivity:  0.7468085106382979\n",
      "Confusion Matrix:  [[689648    130]\n",
      " [   119    351]]\n",
      "Web Attack � XSS\n",
      "Accuracy score:  0.9996725814489864\n",
      "F1 score:  0.3542857142857143\n",
      "F2 score:  0.3252885624344176\n",
      "AUCROC  0.6541658165371055\n",
      "Precision score:  0.4161073825503356\n",
      "Recall score:  0.30845771144278605\n",
      "Sensitivity:  0.3084577114427861\n",
      "Confusion Matrix:  [[689960     87]\n",
      " [   139     62]]\n",
      "Web Attack � Sql Injection\n",
      "Accuracy score:  0.9999927562267474\n",
      "F1 score:  0.0\n",
      "F2 score:  0.0\n",
      "AUCROC  0.5\n"
     ]
    },
    {
     "name": "stderr",
     "output_type": "stream",
     "text": [
      "/home/victwj/.local/lib/python3.6/site-packages/sklearn/metrics/_classification.py:1272: UndefinedMetricWarning: Precision is ill-defined and being set to 0.0 due to no predicted samples. Use `zero_division` parameter to control this behavior.\n",
      "  _warn_prf(average, modifier, msg_start, len(result))\n"
     ]
    },
    {
     "name": "stdout",
     "output_type": "stream",
     "text": [
      "Precision score:  0.0\n",
      "Recall score:  0.0\n",
      "Sensitivity:  0.0\n",
      "Confusion Matrix:  [[690243      0]\n",
      " [     5      0]]\n"
     ]
    }
   ],
   "source": [
    "for label in df_combined[\" Label\"].unique()[5:8]:\n",
    "    randomForestCombined(df_combined, label)"
   ]
  },
  {
   "cell_type": "code",
   "execution_count": 84,
   "metadata": {},
   "outputs": [
    {
     "name": "stdout",
     "output_type": "stream",
     "text": [
      "FTP-Patator\n",
      "Accuracy score:  0.9998913434012123\n",
      "F1 score:  0.9845520082389289\n",
      "F2 score:  0.9786258291704201\n",
      "AUCROC  0.9873478089035032\n",
      "Precision score:  0.9945900957136912\n",
      "Recall score:  0.9747145187601958\n",
      "Sensitivity:  0.9747145187601958\n",
      "Confusion Matrix:  [[687783     13]\n",
      " [    62   2390]]\n",
      "SSH-Patator\n",
      "Accuracy score:  0.9999739224162909\n",
      "F1 score:  0.9947735191637631\n",
      "F2 score:  0.9923531456378172\n",
      "AUCROC  0.9953715956118826\n",
      "Precision score:  0.9988338192419826\n",
      "Recall score:  0.9907460960092539\n",
      "Sensitivity:  0.9907460960092539\n",
      "Confusion Matrix:  [[688517      2]\n",
      " [    16   1713]]\n",
      "DoS slowloris\n",
      "Accuracy score:  0.9999116259663193\n",
      "F1 score:  0.9826950354609929\n",
      "F2 score:  0.9848743318548846\n",
      "AUCROC  0.9931394166964645\n",
      "Precision score:  0.9790842283776144\n",
      "Recall score:  0.9863325740318907\n",
      "Sensitivity:  0.9863325740318907\n",
      "Confusion Matrix:  [[688455     37]\n",
      " [    24   1732]]\n",
      "DoS Slowhttptest\n",
      "Accuracy score:  0.9998160081593862\n",
      "F1 score:  0.9624593556015371\n",
      "F2 score:  0.9726371131556936\n",
      "AUCROC  0.9897038301161806\n",
      "Precision score:  0.9459616502033701\n",
      "Recall score:  0.9795427196149218\n",
      "Sensitivity:  0.9795427196149218\n",
      "Confusion Matrix:  [[688493     93]\n",
      " [    34   1628]]\n",
      "DoS Hulk\n",
      "Accuracy score:  0.9996117337536653\n",
      "F1 score:  0.9980698039554614\n",
      "F2 score:  0.998250982561691\n",
      "AUCROC  0.9990610727556564\n",
      "Precision score:  0.9977679857151086\n",
      "Recall score:  0.9983718048471225\n",
      "Sensitivity:  0.9983718048471225\n",
      "Confusion Matrix:  [[620691    155]\n",
      " [   113  69289]]\n",
      "DoS GoldenEye\n",
      "Accuracy score:  0.9999536398511839\n",
      "F1 score:  0.994935106046217\n",
      "F2 score:  0.9943685143001771\n",
      "AUCROC  0.996986112180277\n",
      "Precision score:  0.9958808618504436\n",
      "Recall score:  0.9939911448450348\n",
      "Sensitivity:  0.9939911448450348\n",
      "Confusion Matrix:  [[687073     13]\n",
      " [    19   3143]]\n",
      "Heartbleed\n",
      "Accuracy score:  0.9999985512453495\n",
      "F1 score:  0.8\n",
      "F2 score:  0.7142857142857142\n",
      "AUCROC  0.8333333333333333\n",
      "Precision score:  1.0\n",
      "Recall score:  0.6666666666666666\n",
      "Sensitivity:  0.6666666666666667\n",
      "Confusion Matrix:  [[690245      0]\n",
      " [     1      2]]\n"
     ]
    }
   ],
   "source": [
    "for label in df_combined[\" Label\"].unique()[8:]:\n",
    "    randomForestCombined(df_combined, label)"
   ]
  },
  {
   "cell_type": "code",
   "execution_count": null,
   "metadata": {},
   "outputs": [],
   "source": []
  }
 ],
 "metadata": {
  "kernelspec": {
   "display_name": "Python 3",
   "language": "python",
   "name": "python3"
  },
  "language_info": {
   "codemirror_mode": {
    "name": "ipython",
    "version": 3
   },
   "file_extension": ".py",
   "mimetype": "text/x-python",
   "name": "python",
   "nbconvert_exporter": "python",
   "pygments_lexer": "ipython3",
   "version": "3.7.1"
  }
 },
 "nbformat": 4,
 "nbformat_minor": 2
}
